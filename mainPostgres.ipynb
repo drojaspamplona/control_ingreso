{
 "cells": [
  {
   "cell_type": "code",
   "execution_count": 2,
   "metadata": {},
   "outputs": [],
   "source": [
    "import psycopg2"
   ]
  },
  {
   "cell_type": "code",
   "execution_count": 3,
   "metadata": {},
   "outputs": [],
   "source": [
    "connection = psycopg2.connect(\n",
    "    dbname=\"employee_tracking_db\",  # Nombre de tu base de datos\n",
    "    user=\"postgres\",            # Usuario de PostgreSQL\n",
    "    password=\"postgres\",     # Contraseña de PostgreSQL\n",
    "    host=\"localhost\",             # Dirección del servidor\n",
    "    port=\"5432\"                   # Puerto del servidor\n",
    ")"
   ]
  },
  {
   "cell_type": "code",
   "execution_count": 4,
   "metadata": {},
   "outputs": [
    {
     "name": "stdout",
     "output_type": "stream",
     "text": [
      "(1, 'Recursos humanos')\n",
      "(2, 'Analítica')\n",
      "(3, 'Finanzas')\n"
     ]
    }
   ],
   "source": [
    "cursor = connection.cursor()\n",
    "cursor.execute(\"SELECT * FROM hr.areas\")\n",
    "# Obtén todos los registros\n",
    "areas = cursor.fetchall()\n",
    "\n",
    "# Imprime las áreas\n",
    "for area in areas:\n",
    "    print(area)\n",
    "\n",
    "cursor.close()\n",
    "connection.close()"
   ]
  },
  {
   "cell_type": "code",
   "execution_count": null,
   "metadata": {},
   "outputs": [],
   "source": []
  },
  {
   "cell_type": "code",
   "execution_count": null,
   "metadata": {},
   "outputs": [],
   "source": []
  }
 ],
 "metadata": {
  "kernelspec": {
   "display_name": "base",
   "language": "python",
   "name": "python3"
  },
  "language_info": {
   "codemirror_mode": {
    "name": "ipython",
    "version": 3
   },
   "file_extension": ".py",
   "mimetype": "text/x-python",
   "name": "python",
   "nbconvert_exporter": "python",
   "pygments_lexer": "ipython3",
   "version": "3.12.2"
  }
 },
 "nbformat": 4,
 "nbformat_minor": 2
}
