{
 "cells": [
  {
   "cell_type": "code",
   "execution_count": 21,
   "metadata": {},
   "outputs": [],
   "source": [
    "import pyodbc\n",
    "import pandas as pd"
   ]
  },
  {
   "cell_type": "code",
   "execution_count": 22,
   "metadata": {},
   "outputs": [],
   "source": [
    "server = '172.17.0.2'\n",
    "port = '1433'\n",
    "database = 'EmployeeTrackingDB'\n",
    "username = 'SA'\n",
    "password = 'Cambiar@2024'\n",
    "driver = '{ODBC Driver 17 for SQL Server}'"
   ]
  },
  {
   "cell_type": "code",
   "execution_count": 23,
   "metadata": {},
   "outputs": [],
   "source": [
    "connection_string = f'DRIVER={driver};SERVER={server},{port};DATABASE={database};UID={username};PWD={password}'\n"
   ]
  },
  {
   "cell_type": "code",
   "execution_count": 24,
   "metadata": {},
   "outputs": [
    {
     "name": "stdout",
     "output_type": "stream",
     "text": [
      "Error al conectar: ('HYT00', '[HYT00] [Microsoft][ODBC Driver 17 for SQL Server]Login timeout expired (0) (SQLDriverConnect)')\n"
     ]
    }
   ],
   "source": [
    "try:\n",
    "    connection = pyodbc.connect(connection_string)\n",
    "    print(\"Conexión exitosa\")\n",
    "except Exception as e:\n",
    "    print(\"Error al conectar:\", e)"
   ]
  },
  {
   "cell_type": "code",
   "execution_count": null,
   "metadata": {},
   "outputs": [],
   "source": [
    "# Realizar una consulta de prueba\n",
    "query = 'SELECT TOP 10 * FROM Hr.Areas'\n",
    "\n",
    "try:\n",
    "    df = pd.read_sql(query, connection)\n",
    "    print(\"Consulta exitosa\")\n",
    "    print(df.head())\n",
    "except Exception as e:\n",
    "    print(\"Error al ejecutar la consulta:\", e)\n",
    "\n",
    "# Cerrar la conexión\n",
    "connection.close()"
   ]
  },
  {
   "cell_type": "code",
   "execution_count": 28,
   "metadata": {},
   "outputs": [
    {
     "name": "stdout",
     "output_type": "stream",
     "text": [
      "Intentando conectar...\n",
      "Error al conectar: ('HYT00', '[HYT00] [Microsoft][ODBC Driver 17 for SQL Server]Login timeout expired (0) (SQLDriverConnect)')\n"
     ]
    }
   ],
   "source": [
    "import pyodbc\n",
    "\n",
    "# Configura la cadena de conexión\n",
    "server = 'localhost'  # o la IP del contenedor\n",
    "port = '1433'         # el puerto en el que SQL Server está escuchando\n",
    "database = 'master'   # el nombre de la base de datos a la que deseas conectarte\n",
    "username = 'SA'       # el usuario de SQL Server\n",
    "password = 'Cambiar@2024'  # la contraseña del usuario\n",
    "\n",
    "# Crear la cadena de conexión\n",
    "conn_str = (\n",
    "    f'DRIVER={{ODBC Driver 17 for SQL Server}};'\n",
    "    f'SERVER={server},{port};'\n",
    "    f'DATABASE={database};'\n",
    "    f'UID={username};'\n",
    "    f'PWD={password};'\n",
    ")\n",
    "\n",
    "# Conectarse a la base de datos\n",
    "try:\n",
    "    print(\"Intentando conectar...\")\n",
    "    conn = pyodbc.connect(conn_str)\n",
    "    print(\"Conexión exitosa!\")\n",
    "    cursor = conn.cursor()\n",
    "    \n",
    "    # Ejecutar una consulta\n",
    "    cursor.execute(\"SELECT @@VERSION;\")\n",
    "    row = cursor.fetchone()\n",
    "    print(\"Versión de SQL Server:\", row[0])\n",
    "    \n",
    "except pyodbc.Error as e:\n",
    "    print(\"Error al conectar:\", e)\n",
    "    \n",
    "finally:\n",
    "    if 'conn' in locals():\n",
    "        conn.close()\n"
   ]
  }
 ],
 "metadata": {
  "kernelspec": {
   "display_name": "base",
   "language": "python",
   "name": "python3"
  },
  "language_info": {
   "codemirror_mode": {
    "name": "ipython",
    "version": 3
   },
   "file_extension": ".py",
   "mimetype": "text/x-python",
   "name": "python",
   "nbconvert_exporter": "python",
   "pygments_lexer": "ipython3",
   "version": "3.12.2"
  }
 },
 "nbformat": 4,
 "nbformat_minor": 2
}
